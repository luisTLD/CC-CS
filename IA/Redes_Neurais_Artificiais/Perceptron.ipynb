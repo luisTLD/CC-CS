{
 "cells": [
  {
   "cell_type": "markdown",
   "metadata": {},
   "source": [
    "# Implementação do Perceptron para AND, OR e XOR\n",
    "\n",
    "Este notebook implementa o algoritmo Perceptron para resolver funções lógicas AND, OR com número variável de entradas,\n",
    "e demonstra a incapacidade do Perceptron em resolver o problema XOR."
   ]
  },
  {
   "cell_type": "code",
   "execution_count": 1,
   "id": "74f6a2ea",
   "metadata": {},
   "outputs": [],
   "source": [
    "import numpy as np\n",
    "import matplotlib.pyplot as plt"
   ]
  },
  {
   "cell_type": "code",
   "execution_count": 2,
   "id": "0d653657",
   "metadata": {},
   "outputs": [],
   "source": [
    "class Perceptron:\n",
    "    def __init__(self, n_inputs, learning_rate=0.1, epochs=1000):\n",
    "        # Inicializa o perceptron com:\n",
    "        # n_inputs: número de entradas (features)\n",
    "        # learning_rate: taxa de aprendizado (default 0.1)\n",
    "        # epochs: número de vezes que o conjunto de dados será percorrido no treinamento\n",
    "        self.n_inputs = n_inputs\n",
    "        self.learning_rate = learning_rate\n",
    "        self.epochs = epochs\n",
    "        # Inicializa os pesos com zeros, incluindo o peso do bias (por isso n_inputs + 1)\n",
    "        self.weights = np.zeros(n_inputs + 1)  # Inclui o bias\n",
    "\n",
    "    def activation(self, x):\n",
    "        # Função de ativação degrau (step function)\n",
    "        # Retorna 1 se a soma ponderada for >= 0, senão 0\n",
    "        return 1 if x >= 0 else 0\n",
    "\n",
    "    def predict(self, inputs):\n",
    "        # Calcula a saída do perceptron para as entradas fornecidas\n",
    "        # np.dot: produto escalar entre entradas e pesos (exceto bias)\n",
    "        # soma o bias (self.weights[0])\n",
    "        summation = np.dot(inputs, self.weights[1:]) + self.weights[0]\n",
    "        # Aplica a função de ativação para retornar a previsão final (0 ou 1)\n",
    "        return self.activation(summation)\n",
    "\n",
    "    def train(self, X, y):\n",
    "        # Treina o perceptron com os dados de entrada X e rótulos y\n",
    "        # X: matriz de entradas (cada linha é um exemplo)\n",
    "        # y: vetor com as saídas desejadas (0 ou 1)\n",
    "        for epoch in range(self.epochs):  # para cada época de treinamento\n",
    "            for inputs, target in zip(X, y):  # para cada exemplo e seu alvo\n",
    "                prediction = self.predict(inputs)  # calcula a previsão atual\n",
    "                error = target - prediction       # calcula o erro\n",
    "                # Ajusta os pesos (exceto bias) com base no erro e taxa de aprendizado\n",
    "                self.weights[1:] += self.learning_rate * error * inputs\n",
    "                # Ajusta o peso do bias da mesma forma\n",
    "                self.weights[0] += self.learning_rate * error\n",
    "\n",
    "    def plot_decision_boundary(self, X, y):\n",
    "        # Plota a fronteira de decisão para visualização (apenas para 2 entradas)\n",
    "        if self.n_inputs != 2:\n",
    "            print(\"Plot disponível apenas para 2 entradas.\")\n",
    "            return\n",
    "        # Define os limites do gráfico, com um espaçamento extra de 1\n",
    "        x_min, x_max = X[:, 0].min() - 1, X[:, 0].max() + 1\n",
    "        y_min, y_max = X[:, 1].min() - 1, X[:, 1].max() + 1\n",
    "        \n",
    "        # Cria uma grade de pontos para avaliar o modelo e desenhar a fronteira\n",
    "        xx, yy = np.meshgrid(np.arange(x_min, x_max, 0.1),\n",
    "                             np.arange(y_min, y_max, 0.1))\n",
    "        \n",
    "        # Para cada ponto da grade, calcula a previsão do perceptron\n",
    "        Z = np.array([self.predict(np.array([x, y])) for x, y in zip(xx.ravel(), yy.ravel())])\n",
    "        # Redimensiona Z para ter o formato da grade (xx.shape)\n",
    "        Z = Z.reshape(xx.shape)\n",
    "\n",
    "        # Desenha o mapa de cores com a fronteira de decisão\n",
    "        plt.contourf(xx, yy, Z, alpha=0.4)\n",
    "        # Plota os pontos originais, coloridos pelo rótulo y\n",
    "        plt.scatter(X[:, 0], X[:, 1], c=y, marker='o')\n",
    "        plt.title('Perceptron Decision Boundary')\n",
    "        plt.show()\n"
   ]
  },
  {
   "cell_type": "markdown",
   "id": "dccf9c37",
   "metadata": {},
   "source": [
    "## Testando as funções AND e OR com 2 entradas"
   ]
  },
  {
   "cell_type": "code",
   "execution_count": 3,
   "id": "f6c8c739",
   "metadata": {},
   "outputs": [
    {
     "name": "stdout",
     "output_type": "stream",
     "text": [
      "Pesos finais: [-0.2  0.2  0.1]\n"
     ]
    },
    {
     "data": {
      "image/png": "[encoded data removed]",
      "text/plain": [
       "<Figure size 640x480 with 1 Axes>"
      ]
     },
     "metadata": {},
     "output_type": "display_data"
    },
    {
     "data": {
      "text/plain": [
       "[0, 0, 0, 1]"
      ]
     },
     "execution_count": 3,
     "metadata": {},
     "output_type": "execute_result"
    }
   ],
   "source": [
    "# Define as entradas possíveis para a função lógica AND com 2 variáveis\n",
    "X_and = np.array([[0, 0], [0, 1], [1, 0], [1, 1]])\n",
    "# Define as saídas desejadas para a função AND correspondente às entradas acima\n",
    "y_and = np.array([0, 0, 0, 1])\n",
    "\n",
    "# Cria uma instância do Perceptron com 2 entradas (features)\n",
    "perceptron_and = Perceptron(n_inputs=2)\n",
    "# Treina o perceptron usando os dados da função AND\n",
    "perceptron_and.train(X_and, y_and)\n",
    "# Imprime os pesos finais aprendidos pelo perceptron após o treinamento\n",
    "print(\"Pesos finais:\", perceptron_and.weights)\n",
    "# Plota a fronteira de decisão que o perceptron aprendeu para separar os dados AND\n",
    "perceptron_and.plot_decision_boundary(X_and, y_and)\n",
    "\n",
    "# Faz previsões para cada entrada da função AND usando o perceptron treinado\n",
    "# Retorna uma lista com as previsões (0 ou 1) para cada entrada\n",
    "[perceptron_and.predict(x) for x in X_and]\n"
   ]
  },
  {
   "cell_type": "markdown",
   "id": "864821b5",
   "metadata": {},
   "source": [
    "## Testando a função OR com 2 entradas"
   ]
  },
  {
   "cell_type": "code",
   "execution_count": 4,
   "id": "cd0399f0",
   "metadata": {},
   "outputs": [
    {
     "name": "stdout",
     "output_type": "stream",
     "text": [
      "Pesos finais: [-0.1  0.1  0.1]\n"
     ]
    },
    {
     "data": {
      "image/png": "[encoded data removed]",
      "text/plain": [
       "<Figure size 640x480 with 1 Axes>"
      ]
     },
     "metadata": {},
     "output_type": "display_data"
    },
    {
     "data": {
      "text/plain": [
       "[0, 1, 1, 1]"
      ]
     },
     "execution_count": 4,
     "metadata": {},
     "output_type": "execute_result"
    }
   ],
   "source": [
    "# Define as entradas possíveis para a função lógica OR com 2 variáveis\n",
    "X_or = np.array([[0, 0], [0, 1], [1, 0], [1, 1]])\n",
    "# Define as saídas desejadas para a função OR correspondente às entradas acima\n",
    "y_or = np.array([0, 1, 1, 1])\n",
    "\n",
    "# Cria uma instância do Perceptron com 2 entradas (features)\n",
    "perceptron_or = Perceptron(n_inputs=2)\n",
    "# Treina o perceptron usando os dados da função OR\n",
    "perceptron_or.train(X_or, y_or)\n",
    "# Imprime os pesos finais aprendidos pelo perceptron após o treinamento\n",
    "print(\"Pesos finais:\", perceptron_or.weights)\n",
    "# Plota a fronteira de decisão que o perceptron aprendeu para separar os dados OR\n",
    "perceptron_or.plot_decision_boundary(X_or, y_or)\n",
    "\n",
    "# Faz previsões para cada entrada da função OR usando o perceptron treinado\n",
    "# Retorna uma lista com as previsões (0 ou 1) para cada entrada\n",
    "[perceptron_or.predict(x) for x in X_or]\n"
   ]
  },
  {
   "cell_type": "markdown",
   "id": "ec7fe8d6",
   "metadata": {},
   "source": [
    "## Testando a função XOR com 2 entradas (que não é linearmente separável)"
   ]
  },
  {
   "cell_type": "code",
   "execution_count": 5,
   "id": "84cf5269",
   "metadata": {},
   "outputs": [
    {
     "name": "stdout",
     "output_type": "stream",
     "text": [
      "Pesos finais: [ 0.  -0.1  0. ]\n"
     ]
    },
    {
     "data": {
      "image/png": "[encoded data removed]",
      "text/plain": [
       "<Figure size 640x480 with 1 Axes>"
      ]
     },
     "metadata": {},
     "output_type": "display_data"
    },
    {
     "data": {
      "text/plain": [
       "[1, 1, 0, 0]"
      ]
     },
     "execution_count": 5,
     "metadata": {},
     "output_type": "execute_result"
    }
   ],
   "source": [
    "# Define as entradas possíveis para a função lógica XOR com 2 variáveis\n",
    "X_xor = np.array([[0, 0], [0, 1], [1, 0], [1, 1]])\n",
    "# Define as saídas desejadas para a função XOR correspondente às entradas acima\n",
    "y_xor = np.array([0, 1, 1, 0])\n",
    "\n",
    "# Cria uma instância do Perceptron com 2 entradas (features)\n",
    "perceptron_xor = Perceptron(n_inputs=2)\n",
    "# Tenta treinar o perceptron usando os dados da função XOR\n",
    "perceptron_xor.train(X_xor, y_xor)\n",
    "# Imprime os pesos finais aprendidos pelo perceptron após o treinamento\n",
    "print(\"Pesos finais:\", perceptron_xor.weights)\n",
    "# Tenta plotar a fronteira de decisão do perceptron para os dados XOR\n",
    "perceptron_xor.plot_decision_boundary(X_xor, y_xor)\n",
    "\n",
    "# Faz previsões para cada entrada da função XOR usando o perceptron treinado\n",
    "# Retorna uma lista com as previsões (0 ou 1) para cada entrada\n",
    "# Nota: O perceptron não consegue separar corretamente o XOR pois não é linearmente separável\n",
    "[perceptron_xor.predict(x) for x in X_xor]\n"
   ]
  },
  {
   "cell_type": "markdown",
   "id": "497215b7",
   "metadata": {},
   "source": [
    "## Testando AND e OR com mais entradas (10 entradas)"
   ]
  },
  {
   "cell_type": "code",
   "execution_count": 6,
   "id": "e236f858",
   "metadata": {},
   "outputs": [
    {
     "name": "stdout",
     "output_type": "stream",
     "text": [
      "AND 10 entradas - primeiras 10 amostras:\n",
      "Entrada: [0 0 0 1 1 0 0 0 1 0], Esperado: 0, Previsto: 0\n",
      "Entrada: [0 0 1 1 1 1 1 0 1 1], Esperado: 0, Previsto: 0\n",
      "Entrada: [0 0 1 1 1 1 1 1 1 1], Esperado: 0, Previsto: 0\n",
      "Entrada: [1 0 0 1 0 1 1 0 0 0], Esperado: 0, Previsto: 0\n",
      "Entrada: [1 0 1 0 0 1 0 0 1 0], Esperado: 0, Previsto: 0\n",
      "Entrada: [0 0 1 1 1 0 0 1 1 0], Esperado: 0, Previsto: 0\n",
      "Entrada: [0 1 0 0 0 1 0 1 1 0], Esperado: 0, Previsto: 0\n",
      "Entrada: [0 0 1 0 1 1 0 0 0 1], Esperado: 0, Previsto: 0\n",
      "Entrada: [0 0 0 1 0 1 0 0 0 1], Esperado: 0, Previsto: 0\n",
      "Entrada: [1 0 1 0 0 1 1 0 0 0], Esperado: 0, Previsto: 0\n",
      "AND 10 entradas - Accuracy: 1.0\n",
      "\n",
      "OR 10 entradas - primeiras 10 amostras:\n",
      "Entrada: [1 0 0 0 0 0 1 1 1 0], Esperado: 1, Previsto: 1\n",
      "Entrada: [0 0 1 0 1 1 0 1 1 0], Esperado: 1, Previsto: 1\n",
      "Entrada: [0 1 1 1 0 1 0 0 0 1], Esperado: 1, Previsto: 1\n",
      "Entrada: [1 1 1 1 1 0 1 0 1 1], Esperado: 1, Previsto: 1\n",
      "Entrada: [0 0 0 1 0 0 1 0 0 0], Esperado: 1, Previsto: 1\n",
      "Entrada: [0 0 1 0 0 1 1 1 1 0], Esperado: 1, Previsto: 1\n",
      "Entrada: [1 0 0 1 0 0 1 1 1 1], Esperado: 1, Previsto: 1\n",
      "Entrada: [1 1 0 0 1 0 1 0 0 0], Esperado: 1, Previsto: 1\n",
      "Entrada: [0 1 1 0 1 1 0 1 0 0], Esperado: 1, Previsto: 1\n",
      "Entrada: [0 0 1 1 1 1 0 1 0 0], Esperado: 1, Previsto: 1\n",
      "OR 10 entradas - Accuracy: 1.0\n"
     ]
    }
   ],
   "source": [
    "def test_high_dimensional_perceptron():\n",
    "    # Testa o perceptron com função AND de 10 entradas\n",
    "    \n",
    "    # Gera uma matriz 1024x10 com valores aleatórios 0 ou 1 para as entradas\n",
    "    X_and_10 = np.random.randint(0, 2, (1024, 10))\n",
    "    # Para cada linha, verifica se todos os valores são 1 (AND lógico)\n",
    "    y_and_10 = np.all(X_and_10 == 1, axis=1).astype(int)\n",
    "\n",
    "    # Cria o perceptron para 10 entradas\n",
    "    perceptron_and_10 = Perceptron(n_inputs=10)\n",
    "    # Treina o perceptron com os dados AND de 10 entradas\n",
    "    perceptron_and_10.train(X_and_10, y_and_10)\n",
    "    # Faz as previsões para todas as entradas geradas\n",
    "    predictions_and = np.array([perceptron_and_10.predict(x) for x in X_and_10])\n",
    "    \n",
    "    # Imprime as primeiras 10 entradas com saída esperada e prevista\n",
    "    print(\"AND 10 entradas - primeiras 10 amostras:\")\n",
    "    for i in range(10):\n",
    "        print(f\"Entrada: {X_and_10[i]}, Esperado: {y_and_10[i]}, Previsto: {predictions_and[i]}\")\n",
    "    \n",
    "    # Calcula e imprime a acurácia do perceptron no problema AND\n",
    "    print(\"AND 10 entradas - Accuracy:\", np.mean(predictions_and == y_and_10))\n",
    "    print()\n",
    "\n",
    "    # Testa o perceptron com função OR de 10 entradas\n",
    "    \n",
    "    # Gera uma matriz 1024x10 com valores aleatórios 0 ou 1 para as entradas\n",
    "    X_or_10 = np.random.randint(0, 2, (1024, 10))\n",
    "    # Para cada linha, verifica se há pelo menos um valor 1 (OR lógico)\n",
    "    y_or_10 = np.any(X_or_10 == 1, axis=1).astype(int)\n",
    "\n",
    "    # Cria o perceptron para 10 entradas\n",
    "    perceptron_or_10 = Perceptron(n_inputs=10)\n",
    "    # Treina o perceptron com os dados OR de 10 entradas\n",
    "    perceptron_or_10.train(X_or_10, y_or_10)\n",
    "    # Faz as previsões para todas as entradas geradas\n",
    "    predictions_or = np.array([perceptron_or_10.predict(x) for x in X_or_10])\n",
    "    \n",
    "    # Imprime as primeiras 10 entradas com saída esperada e prevista\n",
    "    print(\"OR 10 entradas - primeiras 10 amostras:\")\n",
    "    for i in range(10):\n",
    "        print(f\"Entrada: {X_or_10[i]}, Esperado: {y_or_10[i]}, Previsto: {predictions_or[i]}\")\n",
    "    \n",
    "    # Calcula e imprime a acurácia do perceptron no problema OR\n",
    "    print(\"OR 10 entradas - Accuracy:\", np.mean(predictions_or == y_or_10))\n",
    "\n",
    "# Executa o teste para funções AND e OR com 10 entradas\n",
    "test_high_dimensional_perceptron()\n"
   ]
  }
 ],
 "metadata": {
  "kernelspec": {
   "display_name": "base",
   "language": "python",
   "name": "python3"
  },
  "language_info": {
   "codemirror_mode": {
    "name": "ipython",
    "version": 3
   },
   "file_extension": ".py",
   "mimetype": "text/x-python",
   "name": "python",
   "nbconvert_exporter": "python",
   "pygments_lexer": "ipython3",
   "version": "3.12.7"
  }
 },
 "nbformat": 4,
 "nbformat_minor": 5
}
